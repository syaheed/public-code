{
 "cells": [
  {
   "cell_type": "code",
   "execution_count": null,
   "id": "ddaa8fdb",
   "metadata": {},
   "outputs": [],
   "source": [
    "# initialization\n",
    "a_list = list()\n",
    "a_dict = dict()\n",
    "a_map = map()\n",
    "a_set = set()\n",
    "\n",
    "# Initializing lists filled with numbers\n",
    "listA=[1]*1000 #listA contains 1000 1's\n",
    "listB=[2]*1000 #listB contains 1000 2's\n"
   ]
  },
  {
   "cell_type": "code",
   "execution_count": 77,
   "id": "4441503c",
   "metadata": {},
   "outputs": [
    {
     "name": "stdout",
     "output_type": "stream",
     "text": [
      "enter numbers:1234\n"
     ]
    },
    {
     "data": {
      "text/plain": [
       "[1234]"
      ]
     },
     "execution_count": 77,
     "metadata": {},
     "output_type": "execute_result"
    }
   ],
   "source": [
    "#map\n",
    "\n",
    "list(map(int, input(\"enter numbers:\").split()))"
   ]
  },
  {
   "cell_type": "code",
   "execution_count": 76,
   "id": "d1fc8c29",
   "metadata": {},
   "outputs": [
    {
     "name": "stdout",
     "output_type": "stream",
     "text": [
      "{1: 'a', 2: 'b', 3: 'c', 4: 'd', 5: 'e', 6: 'f', 7: 'g'}\n",
      "a: 1\n",
      "b: 2\n",
      "c: 3\n",
      "d: 4\n",
      "e: 5\n",
      "f: 6\n",
      "g: 7\n",
      "{'a': 1, 'b': 3, 'c': 4}\n"
     ]
    }
   ],
   "source": [
    "# dictionaries\n",
    "\n",
    "#Inverting the Dictionary\n",
    "dict1={\"a\": 1, \"b\": 2, \"c\": 3, \"d\": 4, \"e\": 5, \"f\": 6, \"g\": 7}\n",
    "dict2={v: k for k, v in dict1.items()}\n",
    "print(dict2)\n",
    "\n",
    "# Iterating value pairs and dictionary keys\n",
    "for a, b in dict1.items():\n",
    "    print ('{}: {}'.format(a,b))\n",
    "\n",
    "# Merging multiple dictionaries\n",
    "x = {\"a\": 1, \"b\": 2}\n",
    "y = {\"b\": 3, \"c\": 4}\n",
    "z = {**x, **y}\n",
    "print(z)\n",
    "\n"
   ]
  },
  {
   "cell_type": "code",
   "execution_count": 50,
   "id": "55222b37",
   "metadata": {},
   "outputs": [
    {
     "data": {
      "text/html": [
       "<div>\n",
       "<style scoped>\n",
       "    .dataframe tbody tr th:only-of-type {\n",
       "        vertical-align: middle;\n",
       "    }\n",
       "\n",
       "    .dataframe tbody tr th {\n",
       "        vertical-align: top;\n",
       "    }\n",
       "\n",
       "    .dataframe thead th {\n",
       "        text-align: right;\n",
       "    }\n",
       "</style>\n",
       "<table border=\"1\" class=\"dataframe\">\n",
       "  <thead>\n",
       "    <tr style=\"text-align: right;\">\n",
       "      <th></th>\n",
       "      <th>Col_A</th>\n",
       "      <th>Col_B</th>\n",
       "    </tr>\n",
       "  </thead>\n",
       "  <tbody>\n",
       "    <tr>\n",
       "      <th>0</th>\n",
       "      <td>A</td>\n",
       "      <td>1</td>\n",
       "    </tr>\n",
       "    <tr>\n",
       "      <th>1</th>\n",
       "      <td>B</td>\n",
       "      <td>2</td>\n",
       "    </tr>\n",
       "    <tr>\n",
       "      <th>2</th>\n",
       "      <td>C</td>\n",
       "      <td>3</td>\n",
       "    </tr>\n",
       "    <tr>\n",
       "      <th>3</th>\n",
       "      <td>D</td>\n",
       "      <td>4</td>\n",
       "    </tr>\n",
       "  </tbody>\n",
       "</table>\n",
       "</div>"
      ],
      "text/plain": [
       "  Col_A  Col_B\n",
       "0     A      1\n",
       "1     B      2\n",
       "2     C      3\n",
       "3     D      4"
      ]
     },
     "metadata": {},
     "output_type": "display_data"
    },
    {
     "data": {
      "text/html": [
       "<div>\n",
       "<style scoped>\n",
       "    .dataframe tbody tr th:only-of-type {\n",
       "        vertical-align: middle;\n",
       "    }\n",
       "\n",
       "    .dataframe tbody tr th {\n",
       "        vertical-align: top;\n",
       "    }\n",
       "\n",
       "    .dataframe thead th {\n",
       "        text-align: right;\n",
       "    }\n",
       "</style>\n",
       "<table border=\"1\" class=\"dataframe\">\n",
       "  <thead>\n",
       "    <tr style=\"text-align: right;\">\n",
       "      <th></th>\n",
       "      <th>col_A</th>\n",
       "      <th>col_B</th>\n",
       "    </tr>\n",
       "  </thead>\n",
       "  <tbody>\n",
       "    <tr>\n",
       "      <th>1</th>\n",
       "      <td>2</td>\n",
       "      <td>6</td>\n",
       "    </tr>\n",
       "  </tbody>\n",
       "</table>\n",
       "</div>"
      ],
      "text/plain": [
       "   col_A  col_B\n",
       "1      2      6"
      ]
     },
     "execution_count": 50,
     "metadata": {},
     "output_type": "execute_result"
    }
   ],
   "source": [
    "# Pandas\n",
    "# Slicing and dicing: [ print(taps.loc[0:3])   print(taps.tapCat)  print(taps.tapCat[7])  ]\n",
    "# https://towardsdatascience.com/pandas-exercise-for-data-scientists-part-1-b601a97ee091\n",
    "# %who # what is in memory?\n",
    "\n",
    "import pandas as pd\n",
    "import numpy as np\n",
    "\n",
    "df = pd.DataFrame([[\"A\", 1], [\"B\", 2], [\"C\", 3], [\"D\", 4]], columns = [\"Col_A\", \"Col_B\"])\n",
    "\n",
    "# display a data.frame\n",
    "display(df)\n",
    "\n",
    "# Sort based on a list\n",
    "sort_list = [\"C\", \"D\", \"B\", \"A\"]\n",
    "s = pd.Series(range(len(sort_list)), index = sort_list)\n",
    "df.sort_values(\"Col_A\", key = lambda x: x.map(s))\n",
    "\n",
    "# Insert a column at a specific location in a DataFrame\n",
    "new_column = [\"P\", \"Q\", \"R\", \"S\"]\n",
    "insert_position = 1\n",
    "df.insert(insert_position, \"Col_C\", new_column)\n",
    "\n",
    "# Select columns based on the column’s Data Type\n",
    "df = pd.DataFrame([[\"A\", 1, True], [\"B\", 2, False],\n",
    "                   [\"C\", 3, False], [\"D\", 4, True]], \n",
    "                  columns=[\"col_A\", \"col_B\", \"col_C\"])\n",
    "dt_type = \"bool\"\n",
    "output_df = df.select_dtypes(include = dt_type)\n",
    "\n",
    "# Count the number of Non-NaN cells for each column\n",
    "df = pd.DataFrame([[\"A\", np.NaN], [np.NaN, 2],\n",
    "                   [\"C\", np.NaN], [\"D\", 4]], \n",
    "                  columns=[\"col_A\", \"col_B\"])\n",
    "df.count()\n",
    "\n",
    "# Split DataFrame into equal parts\n",
    "df = pd.DataFrame([[\"A\", 1], [\"B\", 2], [\"C\", 3], [\"D\", 4]], columns=[\"col_A\", \"col_B\"])\n",
    "parts = 2\n",
    "out_df1, out_df2 = np.split(df, parts)\n",
    "\n",
    "# Reverse DataFrame row-wise or column-wise\n",
    "df = pd.DataFrame([[\"A\", 1], [\"B\", 2], [\"C\", 3], [\"D\", 4]], columns=[\"col_A\", \"col_B\"])\n",
    "col_reverse = df.loc[:, ::-1]\n",
    "row_reverse = df.loc[::-1]\n",
    "\n",
    "# Rearrange columns of a DataFrame\n",
    "df = pd.DataFrame([[\"A\", 1], [\"B\", 2], [\"C\", 3], [\"D\", 4]], columns=[\"col_A\", \"col_B\"])\n",
    "rearrange_order = [1,0] # Column 1 then Column 0\n",
    "output_df = df.iloc[:, rearrange_order]\n",
    "\n",
    "# Get alternate rows of a DataFrame\n",
    "df = pd.DataFrame([[\"A\", 1], [\"B\", 2], [\"C\", 3], [\"D\", 4]], columns=[\"col_A\", \"col_B\"])\n",
    "df.iloc[::2]\n",
    "\n",
    "# Insert a row at an arbitrary position\n",
    "insert_pos = 1\n",
    "insert_row = [\"P\", 5]\n",
    "df.loc[insert_pos - 0.1] = insert_row\n",
    "df = df.sort_index()\n",
    "df = df.reset_index(drop = True)\n",
    "\n",
    "# Apply function to every cell of DataFrame\n",
    "df = pd.DataFrame([[1, 5], [2, 6], [3, 7], [4, 8]], \n",
    "                  columns=[\"col_A\", \"col_B\"])\n",
    "def func(num):\n",
    "    return num + 1\n",
    "df.applymap(func)\n",
    "\n",
    "# select rows that match some column value\n",
    "df[df[\"col_A\"] == 2]\n",
    "\n"
   ]
  },
  {
   "cell_type": "code",
   "execution_count": 80,
   "id": "0fc347c8",
   "metadata": {},
   "outputs": [
    {
     "name": "stdout",
     "output_type": "stream",
     "text": [
      "a e\n",
      "b f\n",
      "c g\n",
      "d h\n",
      "4\n",
      "Reverse is nohtyp\n",
      "(8, 11)\n",
      "(9, 12)\n",
      "(10, 13)\n",
      "[1, 2, 3, 4, 5, 6, 7, 8, 9]\n",
      "[1, 2, 3, 4, 5, 6, 7, 8, 9, [5, 6, 7, 8, 9]]\n"
     ]
    }
   ],
   "source": [
    "#lists\n",
    "# https://www.turing.com/kb/22-hottest-python-tricksfor-efficient-coding\n",
    "\n",
    "# flatten a list\n",
    "import itertools\n",
    "a = [[1, 2], [3, 4], [5, 6]]\n",
    "b = list(itertools.chain.from_iterable(a))\n",
    "\n",
    "# reverse a list\n",
    "a=[\"10\",\"9\",\"8\",\"7\"]\n",
    "b = a[::-1]\n",
    "\n",
    "# Combining different lists\n",
    "a=['a','b','c','d']\n",
    "b=['e','f','g','h']\n",
    "for x, y in zip(a, b):\n",
    "    print(x,y)\n",
    "\n",
    "# Negative indexing lists   \n",
    "a = [0, 1, 2, 3, 4, 5, 6, 7, 8, 9, 10]\n",
    "a[-3:-1]\n",
    "\n",
    "# Analyzing the most frequent on the list\n",
    "a = [1, 2, 3, 4, 2, 2, 3, 1, 4, 4, 4]\n",
    "print(max(set(a), key = a.count))\n",
    "\n",
    "# Reversing the string\n",
    "a=\"python\"\n",
    "print(\"Reverse is\", a[::-1])\n",
    "\n",
    "\n",
    "# Transposing a matrix\n",
    "mat = [[8, 9, 10], [11, 12, 13]]\n",
    "new_mat=zip(*mat)\n",
    "for row in new_mat:\n",
    "    print(row)\n",
    "\n",
    "# sets\n",
    "print(list(set([1,2,3,4,3,4,5,6,7,8,9])))\n",
    "\n",
    "# Merging different lists\n",
    "a = [1, 2, 3, 4] # list 1\n",
    "b = [ 5, 6, 7, 8, 9] # list 2\n",
    "a.extend(b) \n",
    "a.append(b)\n",
    "print(a)\n"
   ]
  },
  {
   "cell_type": "code",
   "execution_count": 32,
   "id": "624b63df",
   "metadata": {},
   "outputs": [],
   "source": [
    "# Json imports into pandas\n",
    "import os\n",
    "import json\n",
    "\n",
    "# to load the data\n",
    "def load_json(path,file):\n",
    "    f = open (path+file, \"r\")\n",
    "    data = json.loads(f.read())\n",
    "    f.close()\n",
    "    return data\n",
    "\n",
    "def checkjson2panda(dict1):\n",
    "    '''\n",
    "    import pandas as pd first\n",
    "    params: a dictionary with multiple key/value pairs\n",
    "    desc: to convert a json into a pandas dataframe\n",
    "    returns: a pandas dataframe\n",
    "    '''    \n",
    "    try:\n",
    "        length = len(list(dict1))\n",
    "        blank = [None]*length\n",
    "        dict1keys = list(dict1[0].keys())\n",
    "        frame = pd.DataFrame(blank, columns = [dict1keys[0]])\n",
    "        for i in range(1,len(dict1keys)):\n",
    "            frame[dict1keys[i]] = blank \n",
    "        for t in range(length):\n",
    "            dict2 = dict1[t]\n",
    "            for i in range(len(dict1keys)):\n",
    "                frame.loc[t][dict1keys[i]] = dict2.get(dict1keys[i])\n",
    "        return frame\n",
    "    except:\n",
    "        print('Cannot load in this json as a dataframe. Please check.')\n",
    "        return 0\n"
   ]
  },
  {
   "cell_type": "code",
   "execution_count": 40,
   "id": "7c524ddd",
   "metadata": {},
   "outputs": [
    {
     "name": "stdout",
     "output_type": "stream",
     "text": [
      "/Users/syaheed/Desktop/.DS_Store\n",
      "/Users/syaheed/Desktop/rvrvrvrvv.txt\n",
      "/Users/syaheed/Desktop/rvrvrwwwvrvv.txt\n",
      "/Users/syaheed/Desktop/.DS_Store\n"
     ]
    },
    {
     "data": {
      "text/plain": [
       "'/Users/syaheed/Desktop/archive.zip'"
      ]
     },
     "execution_count": 40,
     "metadata": {},
     "output_type": "execute_result"
    }
   ],
   "source": [
    "# List all files\n",
    "import sys, os, shutil\n",
    "\n",
    "root = \"/Users/syaheed/Desktop/\"\n",
    "path = os.path.join(root, \"targetDirectory\")\n",
    "\n",
    "for r, d, f in os.walk(path):\n",
    "    for file in f:\n",
    "        print(os.path.join(root, file))\n",
    "\n",
    "# make a zip file\n",
    "shutil.make_archive('archive', 'zip', path)\n",
    "        "
   ]
  },
  {
   "cell_type": "code",
   "execution_count": 66,
   "id": "2d5965e7",
   "metadata": {},
   "outputs": [
    {
     "name": "stdout",
     "output_type": "stream",
     "text": [
      "I am not available\n"
     ]
    }
   ],
   "source": [
    "# Text-wrangling\n",
    "df = pd.DataFrame([[\"A_AAB\", 1], [\"B_DDE\", 2], [\"C_SSR\", 3], [\"D_GTR\", 4]], columns = [\"Col_A\", \"Col_B\"])\n",
    "df.Col_A[0].split('_')[1]\n",
    "\n",
    "a=\"Python is the language of the future\"\n",
    "b=a.split()\n",
    "\n",
    "a = [\"I\", \"am\", \"not\", \"available\"]\n",
    "print(\" \".join(a))\n",
    "\n"
   ]
  },
  {
   "cell_type": "code",
   "execution_count": 51,
   "id": "18491337",
   "metadata": {},
   "outputs": [
    {
     "name": "stdout",
     "output_type": "stream",
     "text": [
      "1\n",
      "2\n",
      "3\n"
     ]
    }
   ],
   "source": [
    "# counter\n",
    "def counter():\n",
    "    count = 0\n",
    "    def inner():\n",
    "        nonlocal count\n",
    "        count += 1\n",
    "        return count\n",
    "    return inner\n",
    "\n",
    "# Return the inner function\n",
    "counter = counter()\n",
    "print(counter()) # 1\n",
    "print(counter()) # 2\n",
    "print(counter()) # 3\n"
   ]
  }
 ],
 "metadata": {
  "kernelspec": {
   "display_name": "Python 3 (ipykernel)",
   "language": "python",
   "name": "python3"
  },
  "language_info": {
   "codemirror_mode": {
    "name": "ipython",
    "version": 3
   },
   "file_extension": ".py",
   "mimetype": "text/x-python",
   "name": "python",
   "nbconvert_exporter": "python",
   "pygments_lexer": "ipython3",
   "version": "3.9.12"
  }
 },
 "nbformat": 4,
 "nbformat_minor": 5
}
